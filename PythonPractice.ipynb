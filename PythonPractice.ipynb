{
 "cells": [
  {
   "cell_type": "markdown",
   "metadata": {},
   "source": [
    "## Python 을 다루는 연습을 해보자"
   ]
  },
  {
   "cell_type": "markdown",
   "metadata": {},
   "source": [
    "### 2장 자료형\n",
    "[Jump to Python 2장](https://wikidocs.net/11)을 학습해 봅시다. 2장에서는 가장 기초적인 자료형에 대하여 다룹니다."
   ]
  },
  {
   "cell_type": "code",
   "execution_count": null,
   "metadata": {
    "collapsed": true
   },
   "outputs": [],
   "source": []
  },
  {
   "cell_type": "markdown",
   "metadata": {},
   "source": [
    "### 2장 연습\n",
    "\n",
    "1) 다음 리스트에서 중복숫자를 제거해보자\n",
    "``` python \n",
    ">>> a = [1, 1, 1, 2, 2, 3, 3, 3, 4, 4, 5]\n",
    "```\n",
    "\n",
    "2) 다음 딕셔너리에서 A, B 값을 추출해보자\n",
    "``` python\n",
    ">>> a = {'A':90, 'B':80, 'C':70}\n",
    "```\n",
    "\n",
    "3) 다음 결과는 어떻게 될까? b 값의 변경을 막으려면 어떻게 해야 할까?\n",
    "``` python\n",
    ">>> a = b = [1, 2, 3]\n",
    ">>> a[1] = 4\n",
    ">>> print(b)\n",
    "```"
   ]
  },
  {
   "cell_type": "markdown",
   "metadata": {},
   "source": [
    "### 3장 제어문\n",
    "\n",
    "이번에는 [점프 투 파이썬 3장 제어문](https://wikidocs.net/19) 을 학습해보자"
   ]
  },
  {
   "cell_type": "markdown",
   "metadata": {},
   "source": [
    "### 3장 연습문제\n",
    "\n",
    "1) 다음 코드를 해석해보자. 결과는?\n",
    "``` python\n",
    "a = \"Life is too short, you need python\"\n",
    "\n",
    "if \"wife\" in a: print(\"wife\")\n",
    "elif \"python\" in a and \"you\" not in a: print(\"python\")\n",
    "elif \"shirt\" not in a: print(\"shirt\")\n",
    "elif \"need\" in a: print(\"need\")\n",
    "else: print(\"none\")\n",
    "```"
   ]
  },
  {
   "cell_type": "markdown",
   "metadata": {},
   "source": [
    "2) for문을 사용해 1부터 100까지의 숫자를 출력해 보자."
   ]
  },
  {
   "cell_type": "markdown",
   "metadata": {},
   "source": [
    "3) 아래 코드를 list compression 을 사용하여 만들어보자\n",
    "``` python\n",
    "numbers = [1, 2, 3, 4, 5]\n",
    "result = []\n",
    "for n in numbers:\n",
    "    if n % 2 == 1:\n",
    "        result.append(n*2)\n",
    "```"
   ]
  },
  {
   "cell_type": "markdown",
   "metadata": {},
   "source": [
    "### 4장 파일 읽고 쓰기\n",
    "\n",
    "[점프 투 파이썬 4장](https://wikidocs.net/26) 파일 읽고 쓰기를 공부해보자"
   ]
  },
  {
   "cell_type": "markdown",
   "metadata": {},
   "source": [
    "#### 데이터 쓰기\n",
    "\n",
    "데이터 쓰기 연습겸 데이터셋 만들어보기"
   ]
  },
  {
   "cell_type": "code",
   "execution_count": 150,
   "metadata": {},
   "outputs": [],
   "source": [
    "try : \n",
    "    os.mkdir(data)\n",
    "except :\n",
    "    pass"
   ]
  },
  {
   "cell_type": "code",
   "execution_count": 151,
   "metadata": {
    "collapsed": true
   },
   "outputs": [],
   "source": [
    "with open('data/ids.txt', 'w') as f :\n",
    "    f.write('ID\\nJohn\\nKarl\\nAndy\\nTim\\n')\n"
   ]
  },
  {
   "cell_type": "code",
   "execution_count": 152,
   "metadata": {
    "collapsed": true
   },
   "outputs": [],
   "source": [
    "with open('data/data1.txt', 'w') as f :\n",
    "    f.write('ID\\tfield1\\tfield2\\tfield3\\nTom\\t1\\t3\\t1\\nJohn\\t1\\t3\\t3\\nTom\\t1\\t1\\t1\\nKarl\\t1\\t1\\t2\\nKarl\\t1\\t3\\t2\\nKarl\\t2\\t2\\t2\\nAndy\\t1\\t2\\t3')\n"
   ]
  },
  {
   "cell_type": "code",
   "execution_count": 153,
   "metadata": {
    "collapsed": true
   },
   "outputs": [],
   "source": [
    "with open('data/data2.txt', 'w') as f :\n",
    "    f.write('ID\\tfield1\\tfield2\\tfield3\\nTom\\t2\\t3\\t1\\nJane\\t1\\t1\\t3\\nJane\\t2\\t2\\t1\\nMax\\t3\\t1\\t2\\nKarl\\t1\\t4\\t2\\nMax\\t3\\t2\\t2\\nMax\\t2\\t2\\t1')\n"
   ]
  },
  {
   "cell_type": "code",
   "execution_count": null,
   "metadata": {
    "collapsed": true
   },
   "outputs": [],
   "source": []
  },
  {
   "cell_type": "markdown",
   "metadata": {},
   "source": [
    "#### 데이터 읽기"
   ]
  },
  {
   "cell_type": "code",
   "execution_count": 154,
   "metadata": {},
   "outputs": [],
   "source": [
    "ids = []\n",
    "with open('data/ids.txt', 'r') as f :\n",
    "    for item_ind, item in enumerate(f) :\n",
    "        if item_ind > 0 :\n",
    "            ids.append(item.strip())\n"
   ]
  },
  {
   "cell_type": "markdown",
   "metadata": {},
   "source": [
    "#### 이렇게 읽는것도 편함"
   ]
  },
  {
   "cell_type": "code",
   "execution_count": 155,
   "metadata": {
    "collapsed": true
   },
   "outputs": [],
   "source": [
    "ids = []\n",
    "with open('data/ids.txt', 'r') as f :\n",
    "    for line in f :\n",
    "        ids.append(line.strip())\n"
   ]
  },
  {
   "cell_type": "markdown",
   "metadata": {},
   "source": [
    "#### 연습"
   ]
  },
  {
   "cell_type": "code",
   "execution_count": 156,
   "metadata": {},
   "outputs": [
    {
     "name": "stdout",
     "output_type": "stream",
     "text": [
      "CPU times: user 890 µs, sys: 1.73 ms, total: 2.62 ms\n",
      "Wall time: 2.19 ms\n"
     ]
    }
   ],
   "source": [
    "%%time\n",
    "\n",
    "ids = []\n",
    "V1s = []\n",
    "with open('data/data1.txt', 'r', encoding='utf-8') as f :\n",
    "    for item in f :\n",
    "        ID, field1, _, _ = item.strip().split()\n",
    "        ids.append(ID)\n",
    "        V1s.append(field1)"
   ]
  },
  {
   "cell_type": "code",
   "execution_count": null,
   "metadata": {
    "collapsed": true
   },
   "outputs": [],
   "source": []
  },
  {
   "cell_type": "markdown",
   "metadata": {},
   "source": [
    "#### Data Generator 연습"
   ]
  },
  {
   "cell_type": "markdown",
   "metadata": {},
   "source": [
    "generator from data file"
   ]
  },
  {
   "cell_type": "code",
   "execution_count": 157,
   "metadata": {
    "collapsed": true
   },
   "outputs": [],
   "source": [
    "fnm = 'data/data2.txt'"
   ]
  },
  {
   "cell_type": "code",
   "execution_count": 158,
   "metadata": {
    "collapsed": true
   },
   "outputs": [],
   "source": [
    "def fgenerator(fnm, iter_option = 0) :\n",
    "    with open(fnm, 'r', encoding='utf-8') as f :\n",
    "        for idx, item in enumerate(f) :\n",
    "            ID, V1, V2, V3 = item.strip().split()\n",
    "            if iter_option == 0 :\n",
    "                yield ID\n",
    "            elif iter_option == 1 :\n",
    "                yield V1\n",
    "            elif iter_option == 2 :\n",
    "                yield V2\n",
    "            else :\n",
    "                yield V3\n"
   ]
  },
  {
   "cell_type": "code",
   "execution_count": 159,
   "metadata": {},
   "outputs": [
    {
     "name": "stdout",
     "output_type": "stream",
     "text": [
      "CPU times: user 9 µs, sys: 0 ns, total: 9 µs\n",
      "Wall time: 12.2 µs\n"
     ]
    }
   ],
   "source": [
    "%%time\n",
    "gen_from_file = fgenerator(fnm)"
   ]
  },
  {
   "cell_type": "code",
   "execution_count": 160,
   "metadata": {},
   "outputs": [
    {
     "data": {
      "text/plain": [
       "'ID'"
      ]
     },
     "execution_count": 160,
     "metadata": {},
     "output_type": "execute_result"
    }
   ],
   "source": [
    "next(gen_from_file)"
   ]
  },
  {
   "cell_type": "code",
   "execution_count": 161,
   "metadata": {},
   "outputs": [
    {
     "data": {
      "text/plain": [
       "88"
      ]
     },
     "execution_count": 161,
     "metadata": {},
     "output_type": "execute_result"
    }
   ],
   "source": [
    "sys.getsizeof(gen_from_file)"
   ]
  },
  {
   "cell_type": "code",
   "execution_count": 162,
   "metadata": {
    "collapsed": true
   },
   "outputs": [],
   "source": [
    "def freader(fnm, iter_option = 0) :\n",
    "    IDs = []\n",
    "    with open(fnm, 'r', encoding='utf-8') as f :\n",
    "        for idx, item in enumerate(f) :\n",
    "            ID, V1, V2, V3 = item.strip().split()\n",
    "            if iter_option == 0 :\n",
    "                IDs.append(ID)\n",
    "            elif iter_option == 1 :\n",
    "                IDs.append(V1)\n",
    "            elif iter_option == 2 :\n",
    "                IDs.append(V2)\n",
    "            else :\n",
    "                IDs.append(V3)\n",
    "    return IDs"
   ]
  },
  {
   "cell_type": "code",
   "execution_count": 163,
   "metadata": {},
   "outputs": [
    {
     "name": "stdout",
     "output_type": "stream",
     "text": [
      "CPU times: user 447 µs, sys: 330 µs, total: 777 µs\n",
      "Wall time: 497 µs\n"
     ]
    }
   ],
   "source": [
    "%%time\n",
    "res = freader(fnm)"
   ]
  },
  {
   "cell_type": "code",
   "execution_count": 164,
   "metadata": {},
   "outputs": [
    {
     "data": {
      "text/plain": [
       "128"
      ]
     },
     "execution_count": 164,
     "metadata": {},
     "output_type": "execute_result"
    }
   ],
   "source": [
    "sys.getsizeof(res)"
   ]
  },
  {
   "cell_type": "markdown",
   "metadata": {},
   "source": [
    "generator with class"
   ]
  },
  {
   "cell_type": "code",
   "execution_count": 122,
   "metadata": {},
   "outputs": [],
   "source": [
    "class DataGenerator() : \n",
    "    def __init__(self, fnm, iter_option=0) :\n",
    "        self.fnm = fnm\n",
    "        self.iter_option = iter_option\n",
    "    \n",
    "    def __iter__(self) :\n",
    "        with open(fnm, 'r', encoding='utf-8') as f :\n",
    "            for idx, item in enumerate(f) :\n",
    "                ID, V1, V2, V3 = item.strip().split()\n",
    "                if self.iter_option == 0 :\n",
    "                    yield ID\n",
    "                elif self.iter_option == 1 :\n",
    "                    yield V1\n",
    "                elif self.iter_option == 2 :\n",
    "                    yield V2\n",
    "                else :\n",
    "                    yield V3\n",
    "    \n",
    "    def __len__(self) :\n",
    "        with open(fnm, 'r', encoding='utf-8') as f :\n",
    "            for idx, item in enumerate(f) :\n",
    "                pass\n",
    "            \n",
    "            return idx\n",
    "        "
   ]
  },
  {
   "cell_type": "code",
   "execution_count": 123,
   "metadata": {
    "collapsed": true
   },
   "outputs": [],
   "source": [
    "fnm = 'data/data2.txt'"
   ]
  },
  {
   "cell_type": "code",
   "execution_count": 124,
   "metadata": {
    "collapsed": true
   },
   "outputs": [],
   "source": [
    "gen1 = DataGenerator(fnm)"
   ]
  },
  {
   "cell_type": "code",
   "execution_count": 125,
   "metadata": {},
   "outputs": [
    {
     "data": {
      "text/plain": [
       "7"
      ]
     },
     "execution_count": 125,
     "metadata": {},
     "output_type": "execute_result"
    }
   ],
   "source": [
    "len(gen1)"
   ]
  },
  {
   "cell_type": "code",
   "execution_count": 126,
   "metadata": {},
   "outputs": [
    {
     "name": "stdout",
     "output_type": "stream",
     "text": [
      "ID\n",
      "Tom\n",
      "Jane\n",
      "Jane\n",
      "Max\n",
      "Karl\n",
      "Max\n",
      "Max\n"
     ]
    }
   ],
   "source": [
    "for idx, item in enumerate(gen1) :\n",
    "    print(item)"
   ]
  },
  {
   "cell_type": "code",
   "execution_count": null,
   "metadata": {
    "collapsed": true
   },
   "outputs": [],
   "source": []
  },
  {
   "cell_type": "code",
   "execution_count": null,
   "metadata": {
    "collapsed": true
   },
   "outputs": [],
   "source": []
  },
  {
   "cell_type": "code",
   "execution_count": null,
   "metadata": {
    "collapsed": true
   },
   "outputs": [],
   "source": []
  },
  {
   "cell_type": "code",
   "execution_count": null,
   "metadata": {
    "collapsed": true
   },
   "outputs": [],
   "source": [
    "\n"
   ]
  }
 ],
 "metadata": {
  "kernelspec": {
   "display_name": "Python [default]",
   "language": "python",
   "name": "python3"
  },
  "language_info": {
   "codemirror_mode": {
    "name": "ipython",
    "version": 3
   },
   "file_extension": ".py",
   "mimetype": "text/x-python",
   "name": "python",
   "nbconvert_exporter": "python",
   "pygments_lexer": "ipython3",
   "version": "3.5.3"
  }
 },
 "nbformat": 4,
 "nbformat_minor": 2
}
